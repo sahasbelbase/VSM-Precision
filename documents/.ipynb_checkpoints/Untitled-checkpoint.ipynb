{
 "cells": [
  {
   "cell_type": "code",
   "execution_count": 2,
   "id": "9ad5b335",
   "metadata": {},
   "outputs": [
    {
     "name": "stderr",
     "output_type": "stream",
     "text": [
      "[nltk_data] Downloading package punkt to\n",
      "[nltk_data]     C:\\Users\\Delta\\AppData\\Roaming\\nltk_data...\n",
      "[nltk_data]   Package punkt is already up-to-date!\n",
      "[nltk_data] Downloading package stopwords to\n",
      "[nltk_data]     C:\\Users\\Delta\\AppData\\Roaming\\nltk_data...\n",
      "[nltk_data]   Package stopwords is already up-to-date!\n",
      "[nltk_data] Downloading package wordnet to\n",
      "[nltk_data]     C:\\Users\\Delta\\AppData\\Roaming\\nltk_data...\n",
      "[nltk_data]   Package wordnet is already up-to-date!\n"
     ]
    },
    {
     "data": {
      "text/plain": [
       "True"
      ]
     },
     "execution_count": 2,
     "metadata": {},
     "output_type": "execute_result"
    }
   ],
   "source": [
    "import os\n",
    "import math\n",
    "import re\n",
    "import nltk\n",
    "import numpy as np\n",
    "from nltk.tokenize import word_tokenize\n",
    "from nltk.stem import WordNetLemmatizer\n",
    "from nltk.corpus import stopwords\n",
    "\n",
    "nltk.download('punkt')\n",
    "nltk.download('stopwords')\n",
    "nltk.download('wordnet')\n",
    "\n",
    "\n"
   ]
  },
  {
   "cell_type": "code",
   "execution_count": 3,
   "id": "45738045",
   "metadata": {},
   "outputs": [],
   "source": [
    "STOPWORDS = set(stopwords.words('english'))\n",
    "LEMMATIZER = WordNetLemmatizer()"
   ]
  },
  {
   "cell_type": "code",
   "execution_count": 4,
   "id": "20839a69",
   "metadata": {},
   "outputs": [],
   "source": [
    "\n",
    "\n",
    "def clean_text(text):\n",
    "    text = text.lower()\n",
    "    text = re.sub(r\"[^a-zA-Z0-9\\s]\", \"\", text)\n",
    "    tokens = word_tokenize(text)\n",
    "    return [LEMMATIZER.lemmatize(word) for word in tokens if word not in STOPWORDS]\n",
    "\n",
    "def term_frequency(term, document):\n",
    "    return document.count(term) / len(document)\n",
    "\n",
    "def inverse_document_frequency(term, all_documents):\n",
    "    num_docs_containing_term = sum(1 for doc in all_documents if term in doc)\n",
    "    return math.log(len(all_documents) / (num_docs_containing_term)) if num_docs_containing_term > 0 else 0"
   ]
  },
  {
   "cell_type": "code",
   "execution_count": 5,
   "id": "0b50d76d",
   "metadata": {},
   "outputs": [],
   "source": [
    "\n",
    "\n",
    "def compute_tfidf(document, all_documents, vocab):\n",
    "    tfidf_vector = []\n",
    "    for term in vocab:\n",
    "        tf = term_frequency(term, document)\n",
    "        idf = inverse_document_frequency(term, all_documents)\n",
    "        tfidf_vector.append(tf * idf)\n",
    "    return np.array(tfidf_vector)\n",
    "\n",
    "def cosine_similarity(vec1, vec2):\n",
    "    dot_product = np.dot(vec1, vec2)\n",
    "    norm_vec1 = np.linalg.norm(vec1)\n",
    "    norm_vec2 = np.linalg.norm(vec2)\n",
    "    return dot_product / (norm_vec1 * norm_vec2) if norm_vec1 > 0 and norm_vec2 > 0 else 0"
   ]
  },
  {
   "cell_type": "code",
   "execution_count": 6,
   "id": "0f0848f7",
   "metadata": {},
   "outputs": [],
   "source": [
    "\n",
    "def load_txt_files(folder_path):\n",
    "    documents = []\n",
    "    filenames = []\n",
    "    for filename in os.listdir(folder_path):\n",
    "        if filename.endswith(\".txt\"):\n",
    "            with open(os.path.join(folder_path, filename), 'r', encoding='utf-8') as file:\n",
    "                content = file.read()\n",
    "                documents.append(clean_text(content))\n",
    "                filenames.append(filename)\n",
    "    return documents, filenames\n",
    "\n",
    "def calculate_precision_at_k(relevant_docs, ranked_docs, k):\n",
    "    if not ranked_docs:\n",
    "        return 0.0\n",
    "    top_k_docs = ranked_docs[:k]\n",
    "    relevant_retrieved = sum(1 for doc in top_k_docs if doc[0] in relevant_docs)\n",
    "    return relevant_retrieved / k\n"
   ]
  },
  {
   "cell_type": "code",
   "execution_count": 7,
   "id": "81ce64fe",
   "metadata": {},
   "outputs": [],
   "source": [
    "queries = [\n",
    "    \"Latest developments?\",\n",
    "    \"Sanctions impact 2024?\",\n",
    "    \"International response?\",\n",
    "    \"Civilians affected?\",\n",
    "    \"NATO's role?\",\n",
    "    \"Global security implications?\",\n",
    "    \"Energy price influence?\",\n",
    "    \"Humanitarian efforts?\",\n",
    "    \"Military strategies?\",\n",
    "    \"Cultural impacts?\",\n",
    "    \"Economic changes?\",\n",
    "    \"Historical roots?\",\n",
    "    \"NATO influence?\",\n",
    "    \"Agricultural impact?\",\n",
    "    \"Natural resources?\",\n",
    "    \"Russian culture?\",\n",
    "    \"Geopolitical implications?\",\n",
    "    \"Humanitarian challenges?\"\n",
    "]\n"
   ]
  },
  {
   "cell_type": "code",
   "execution_count": null,
   "id": "8632ae43",
   "metadata": {},
   "outputs": [],
   "source": [
    "\n",
    "\n",
    "def main():\n",
    "    folder_path = r'C:\\Users\\Delta\\Documents\\VSM-Precision\\documents'\n",
    "    documents, filenames = load_txt_files(folder_path)\n",
    "    for query in queries:\n",
    "        cleaned_query = clean_text(query)\n",
    "        vocab = sorted(set(word for doc in documents + [cleaned_query] for word in doc))\n",
    "        query_vector = compute_tfidf(cleaned_query, documents, vocab)\n",
    "        doc_vectors = [compute_tfidf(doc, documents, vocab) for doc in documents]\n",
    "        similarities = [(filenames[i], cosine_similarity(query_vector, doc_vector)) for i, doc_vector in enumerate(doc_vectors)]\n",
    "        similarities = sorted(similarities, key=lambda x: x[1], reverse=True)\n",
    "        k = 5\n",
    "        relevant_docs = set(filenames)\n",
    "        precision_at_k = calculate_precision_at_k(relevant_docs, similarities, k)\n",
    "        with open(\"sahas_results.txt\", \"a\") as f:\n",
    "            f.write(f\"Results for query: '{query}'\\n\")\n",
    "            f.write(f\"Precision@{k}: {precision_at_k:.4f}\\n\")\n",
    "            for title, similarity in similarities[:k]:\n",
    "                f.write(f\"Document: {title}, Similarity: {similarity:.4f}\\n\")\n",
    "            f.write(\"\\n\")\n",
    "    print(\"Results written to 'sahas_results.txt'.\")\n",
    "    with open('sahas_results.txt', 'r') as f:\n",
    "        content = f.readlines()\n",
    "        for line in content:\n",
    "            if line.startswith(\"Document:\"):\n",
    "                parts = line.split(\", Similarity:\")\n",
    "                filename = parts[0][10:]\n",
    "                similarity_score = parts[1].strip()\n",
    "                if len(filename) > 48:\n",
    "                    formatted_filename = f\"{filename[:25]}...{filename[-25:]}, Similarity: {similarity_score}\"\n",
    "                else:\n",
    "                    formatted_filename = line.strip()\n",
    "                print(formatted_filename)\n",
    "            else:\n",
    "                print(line.strip())\n",
    "\n",
    "if __name__ == \"__main__\":\n",
    "    main()\n"
   ]
  },
  {
   "cell_type": "code",
   "execution_count": null,
   "id": "53c5a884",
   "metadata": {},
   "outputs": [],
   "source": []
  },
  {
   "cell_type": "code",
   "execution_count": null,
   "id": "c09e2c14",
   "metadata": {},
   "outputs": [],
   "source": []
  }
 ],
 "metadata": {
  "kernelspec": {
   "display_name": "Python 3 (ipykernel)",
   "language": "python",
   "name": "python3"
  },
  "language_info": {
   "codemirror_mode": {
    "name": "ipython",
    "version": 3
   },
   "file_extension": ".py",
   "mimetype": "text/x-python",
   "name": "python",
   "nbconvert_exporter": "python",
   "pygments_lexer": "ipython3",
   "version": "3.11.5"
  }
 },
 "nbformat": 4,
 "nbformat_minor": 5
}
