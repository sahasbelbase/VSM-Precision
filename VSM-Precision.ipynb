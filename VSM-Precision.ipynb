{
 "cells": [
  {
   "cell_type": "code",
   "execution_count": 1,
   "id": "5fb243ef",
   "metadata": {},
   "outputs": [],
   "source": [
    "import os\n",
    "import math\n",
    "import re\n",
    "import nltk\n",
    "import numpy as np\n",
    "from nltk.tokenize import word_tokenize\n",
    "from nltk.stem import WordNetLemmatizer\n",
    "from nltk.corpus import stopwords\n",
    "from bs4 import BeautifulSoup"
   ]
  },
  {
   "cell_type": "code",
   "execution_count": 2,
   "id": "ebf8eb87",
   "metadata": {},
   "outputs": [
    {
     "name": "stderr",
     "output_type": "stream",
     "text": [
      "[nltk_data] Downloading package punkt to\n",
      "[nltk_data]     C:\\Users\\Delta\\AppData\\Roaming\\nltk_data...\n",
      "[nltk_data]   Package punkt is already up-to-date!\n",
      "[nltk_data] Downloading package stopwords to\n",
      "[nltk_data]     C:\\Users\\Delta\\AppData\\Roaming\\nltk_data...\n",
      "[nltk_data]   Package stopwords is already up-to-date!\n",
      "[nltk_data] Downloading package wordnet to\n",
      "[nltk_data]     C:\\Users\\Delta\\AppData\\Roaming\\nltk_data...\n",
      "[nltk_data]   Package wordnet is already up-to-date!\n"
     ]
    },
    {
     "data": {
      "text/plain": [
       "True"
      ]
     },
     "execution_count": 2,
     "metadata": {},
     "output_type": "execute_result"
    }
   ],
   "source": [
    "nltk.download('punkt')\n",
    "nltk.download('stopwords')\n",
    "nltk.download('wordnet')"
   ]
  },
  {
   "cell_type": "code",
   "execution_count": 3,
   "id": "faf68c39",
   "metadata": {},
   "outputs": [],
   "source": [
    "ENGLISH_STOPWORDS = set(stopwords.words('english'))\n",
    "LEMMATIZER = WordNetLemmatizer()\n"
   ]
  },
  {
   "cell_type": "code",
   "execution_count": 4,
   "id": "40f13376",
   "metadata": {},
   "outputs": [],
   "source": [
    "def preprocess_text(text):\n",
    "    text = text.lower()\n",
    "    text = re.sub(r\"[^a-zA-Z0-9\\s]\", \"\", text)\n",
    "    text = re.sub(r\"\\d+\", \"\", text)\n",
    "    tokens = word_tokenize(text)\n",
    "    return [LEMMATIZER.lemmatize(word) for word in tokens if word not in ENGLISH_STOPWORDS]\n"
   ]
  },
  {
   "cell_type": "code",
   "execution_count": 5,
   "id": "7b6459ee",
   "metadata": {},
   "outputs": [],
   "source": [
    "def calc_term_freq(term, document):\n",
    "    return document.count(term) / len(document)"
   ]
  },
  {
   "cell_type": "code",
   "execution_count": 6,
   "id": "3f1fd55f",
   "metadata": {},
   "outputs": [],
   "source": [
    "def calc_inverse_doc_freq(term, all_docs):\n",
    "    doc_count_with_term = sum(1 for doc in all_docs if term in doc)\n",
    "    return math.log(len(all_docs) / (doc_count_with_term)) if doc_count_with_term > 0 else 0\n"
   ]
  },
  {
   "cell_type": "code",
   "execution_count": 7,
   "id": "244672b6",
   "metadata": {},
   "outputs": [],
   "source": [
    "def calc_tfidf_vector(document, all_docs, vocab):\n",
    "    tfidf_vec = []\n",
    "    for term in vocab:\n",
    "        tf = calc_term_freq(term, document)\n",
    "        idf = calc_inverse_doc_freq(term, all_docs)\n",
    "        tfidf_vec.append(tf * idf)\n",
    "    return np.array(tfidf_vec)"
   ]
  },
  {
   "cell_type": "code",
   "execution_count": 8,
   "id": "41ff43e2",
   "metadata": {},
   "outputs": [],
   "source": [
    "def compute_cosine_similarity(vector1, vector2):\n",
    "    dot_prod = np.dot(vector1, vector2)\n",
    "    norm_vec1 = np.linalg.norm(vector1)\n",
    "    norm_vec2 = np.linalg.norm(vector2)\n",
    "    return dot_prod / (norm_vec1 * norm_vec2) if norm_vec1 > 0 and norm_vec2 > 0 else 0\n"
   ]
  },
  {
   "cell_type": "code",
   "execution_count": 9,
   "id": "f43ea006",
   "metadata": {},
   "outputs": [],
   "source": [
    "def get_text_from_html(html_content):\n",
    "    soup = BeautifulSoup(html_content, 'html.parser')\n",
    "    title = soup.title.string if soup.title else \"\"\n",
    "    body = soup.body.get_text(separator=\" \") if soup.body else \"\"\n",
    "    return title, body"
   ]
  },
  {
   "cell_type": "code",
   "execution_count": 10,
   "id": "3a8a3b2f",
   "metadata": {},
   "outputs": [],
   "source": [
    "def load_docs_from_html(folder_path):\n",
    "    docs = []\n",
    "    filenames = []\n",
    "    \n",
    "    for filename in os.listdir(folder_path):\n",
    "        if filename.endswith(\".html\"):\n",
    "            with open(os.path.join(folder_path, filename), 'r', encoding='utf-8') as file:\n",
    "                content = file.read()\n",
    "                title, body = get_text_from_html(content)\n",
    "                docs.append(preprocess_text(title + \" \" + body))\n",
    "                filenames.append(filename)\n",
    "    \n",
    "    return docs, filenames\n"
   ]
  },
  {
   "cell_type": "code",
   "execution_count": 12,
   "id": "af493c88",
   "metadata": {},
   "outputs": [],
   "source": [
    "# Precision K calculation\n",
    "def calc_precision_at_k(relevant_docs, ranked_docs, k):\n",
    "    if not ranked_docs:\n",
    "        return 0.0\n",
    "    top_k = ranked_docs[:k]\n",
    "    relevant_in_top_k = sum(1 for doc in top_k if doc[0] in relevant_docs)\n",
    "    return relevant_in_top_k / k\n"
   ]
  },
  {
   "cell_type": "code",
   "execution_count": 13,
   "id": "f6cb3ab3",
   "metadata": {},
   "outputs": [
    {
     "ename": "NameError",
     "evalue": "name 'queries' is not defined",
     "output_type": "error",
     "traceback": [
      "\u001b[1;31m---------------------------------------------------------------------------\u001b[0m",
      "\u001b[1;31mNameError\u001b[0m                                 Traceback (most recent call last)",
      "Cell \u001b[1;32mIn[13], line 52\u001b[0m\n\u001b[0;32m     49\u001b[0m                 \u001b[38;5;28mprint\u001b[39m(line\u001b[38;5;241m.\u001b[39mstrip())\n\u001b[0;32m     51\u001b[0m \u001b[38;5;28;01mif\u001b[39;00m \u001b[38;5;18m__name__\u001b[39m \u001b[38;5;241m==\u001b[39m \u001b[38;5;124m\"\u001b[39m\u001b[38;5;124m__main__\u001b[39m\u001b[38;5;124m\"\u001b[39m:\n\u001b[1;32m---> 52\u001b[0m     main()\n",
      "Cell \u001b[1;32mIn[13], line 7\u001b[0m, in \u001b[0;36mmain\u001b[1;34m()\u001b[0m\n\u001b[0;32m      4\u001b[0m documents, filenames \u001b[38;5;241m=\u001b[39m load_docs_from_html(folder_path)\n\u001b[0;32m      6\u001b[0m \u001b[38;5;66;03m# Iterate over each query\u001b[39;00m\n\u001b[1;32m----> 7\u001b[0m \u001b[38;5;28;01mfor\u001b[39;00m query \u001b[38;5;129;01min\u001b[39;00m queries:\n\u001b[0;32m      8\u001b[0m     cleaned_query \u001b[38;5;241m=\u001b[39m preprocess_text(query)\n\u001b[0;32m      9\u001b[0m     vocab \u001b[38;5;241m=\u001b[39m \u001b[38;5;28msorted\u001b[39m(\u001b[38;5;28mset\u001b[39m(word \u001b[38;5;28;01mfor\u001b[39;00m doc \u001b[38;5;129;01min\u001b[39;00m documents \u001b[38;5;241m+\u001b[39m [cleaned_query] \u001b[38;5;28;01mfor\u001b[39;00m word \u001b[38;5;129;01min\u001b[39;00m doc))\n",
      "\u001b[1;31mNameError\u001b[0m: name 'queries' is not defined"
     ]
    }
   ],
   "source": [
    "# Main function\n",
    "def main():\n",
    "    folder_path = './documents/'\n",
    "    documents, filenames = load_docs_from_html(folder_path)\n",
    "\n",
    "    # Iterate over each query\n",
    "    for query in queries:\n",
    "        cleaned_query = preprocess_text(query)\n",
    "        vocab = sorted(set(word for doc in documents + [cleaned_query] for word in doc))\n",
    "\n",
    "        # Compute TF-IDF vectors\n",
    "        query_vector = calc_tfidf_vector(cleaned_query, documents, vocab)\n",
    "        doc_vectors = [calc_tfidf_vector(doc, documents, vocab) for doc in documents]\n",
    "\n",
    "        # Calculate cosine similarity\n",
    "        similarities = [(filenames[i], compute_cosine_similarity(query_vector, doc_vector)) for i, doc_vector in enumerate(doc_vectors)]\n",
    "\n",
    "        # Sort similarities\n",
    "        similarities = sorted(similarities, key=lambda x: x[1], reverse=True)\n",
    "\n",
    "        # Get relevant documents for this query\n",
    "        relevant_docs = relevant_docs_dict.get(query, set())\n",
    "\n",
    "        # Calculate Precision@K\n",
    "        k = 5\n",
    "        precision_at_k = calc_precision_at_k(relevant_docs, similarities, k)\n",
    "\n",
    "        with open(\"evaluation_results.txt\", \"a\") as f:\n",
    "            f.write(f\"Results for query: '{query}'\\n\")\n",
    "            f.write(f\"Precision@{k}: {precision_at_k:.4f}\\n\")\n",
    "            for title, similarity in similarities[:k]:\n",
    "                f.write(f\"Document: {title}, Similarity: {similarity:.4f}\\n\")\n",
    "            f.write(\"\\n\")\n",
    "\n",
    "    print(\"Results written to 'evaluation_results.txt'.\")\n",
    "    with open('sahas_evaluation_results.txt', 'r') as f:\n",
    "        content = f.readlines()\n",
    "        for line in content:\n",
    "            if line.startswith(\"Document:\"):\n",
    "                parts = line.split(\", Similarity:\")\n",
    "                filename = parts[0][10:]\n",
    "                similarity_score = parts[1].strip()\n",
    "                if len(filename) > 48:\n",
    "                    formatted_filename = f\"{filename[:25]}...{filename[-25:]}, Similarity: {similarity_score}\"\n",
    "                else:\n",
    "                    formatted_filename = line.strip()\n",
    "                print(formatted_filename)\n",
    "            else:\n",
    "                print(line.strip())\n",
    "\n",
    "if __name__ == \"__main__\":\n",
    "    main()"
   ]
  },
  {
   "cell_type": "code",
   "execution_count": null,
   "id": "122d6b87",
   "metadata": {},
   "outputs": [],
   "source": []
  }
 ],
 "metadata": {
  "kernelspec": {
   "display_name": "Python 3 (ipykernel)",
   "language": "python",
   "name": "python3"
  },
  "language_info": {
   "codemirror_mode": {
    "name": "ipython",
    "version": 3
   },
   "file_extension": ".py",
   "mimetype": "text/x-python",
   "name": "python",
   "nbconvert_exporter": "python",
   "pygments_lexer": "ipython3",
   "version": "3.11.5"
  }
 },
 "nbformat": 4,
 "nbformat_minor": 5
}
